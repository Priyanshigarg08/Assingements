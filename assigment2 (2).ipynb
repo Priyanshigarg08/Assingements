{
 "cells": [
  {
   "cell_type": "markdown",
   "id": "79e85f05-63fa-4324-bdea-7654881ca462",
   "metadata": {},
   "source": [
    "Q1. How do you comment code in Python? What are the different types of comments?\n",
    " Ans- We can comment the code in python by putting hashtag before the code or by putting selecting code and press Ctrl+?.  \n",
    "     There are two types of Comments-\n",
    "     1. Single-line comment\n",
    "     2. Double-line comment\n",
    "    "
   ]
  },
  {
   "cell_type": "markdown",
   "id": "29034ed3-a73c-4395-8ee3-d4c39fa108ae",
   "metadata": {},
   "source": [
    "Q2. What are variables in Python? How do you declare and assign values to variables?\n",
    "Ans- Variables are simply the container that stores a value having of any datatype.\n",
    "    We can deca;re a varibable by starting it with alphates and and should not have space in between variabales name. We can       assign values to variables by using equal(=) sign.\n",
    "    "
   ]
  },
  {
   "cell_type": "raw",
   "id": "2007d957-0385-4c31-a4c4-cb81045e6f0a",
   "metadata": {},
   "source": [
    "Q3. How do you convert one data type to another in Python?\n",
    "Ans- We can convert one data type into another by using type conversions like- list(),tuple(), int(),set()."
   ]
  },
  {
   "cell_type": "markdown",
   "id": "e875252a-fbcb-46a9-bd52-7af5d36fddfb",
   "metadata": {},
   "source": [
    "Q4. How do you write and execute a Python script from the command line?\n",
    "Ans- We can eaasily run python scripts by opening commnad line and then write python and then the path of python script file has to run."
   ]
  },
  {
   "cell_type": "code",
   "execution_count": 2,
   "id": "a8216825-3231-4171-ba27-56ba91bcbd74",
   "metadata": {},
   "outputs": [
    {
     "data": {
      "text/plain": [
       "[2, 3]"
      ]
     },
     "execution_count": 2,
     "metadata": {},
     "output_type": "execute_result"
    }
   ],
   "source": [
    "# Q5. Given a list my_list = [1, 2, 3, 4, 5], write the code to slice the list and obtain the sub-list [2, 3].\n",
    "my_list = [1, 2, 3, 4, 5] \n",
    "my_list=my_list[1:3]\n",
    "my_list"
   ]
  },
  {
   "cell_type": "markdown",
   "id": "95ab67ca-c2e4-4280-b881-f9e1209d8d8a",
   "metadata": {},
   "source": [
    "Q6. What is a complex number in mathematics, and how is it represented in Python?\n",
    "Ans- Complex numbers are the numbers that contains real as well as imaginary numbers and areexpressed in the form of a+bi where a and b are real numbers and i is the imagniary unit. \n",
    "In python we can express it in  the form complex(a,b)."
   ]
  },
  {
   "cell_type": "code",
   "execution_count": 3,
   "id": "8193501a-f48d-4cc5-ada9-51daacd7b940",
   "metadata": {},
   "outputs": [
    {
     "data": {
      "text/plain": [
       "25"
      ]
     },
     "execution_count": 3,
     "metadata": {},
     "output_type": "execute_result"
    }
   ],
   "source": [
    "# Q7. What is the correct way to declare a variable named age and assign the value 25 to it?\n",
    "age= 25\n",
    "# age"
   ]
  },
  {
   "cell_type": "markdown",
   "id": "cd713d51-70e1-4057-8f4b-fe7981da1a3e",
   "metadata": {},
   "source": [
    "Q8. Declare a variable named price and assign the value 9.99 to it. What data type does this variable\n",
    "belong to?\n",
    "Ans- price=9.99\n",
    "Datatype of this variable is float.\n"
   ]
  },
  {
   "cell_type": "code",
   "execution_count": 5,
   "id": "609e8bcb-80df-4c19-996d-c786a115defe",
   "metadata": {},
   "outputs": [
    {
     "name": "stdout",
     "output_type": "stream",
     "text": [
      "Priyanshi Garg\n"
     ]
    }
   ],
   "source": [
    "# Q9. Create a variable named name and assign your full name to it as a string. How would you print the\n",
    "# value of this variable?\n",
    "name=\"Priyanshi Garg\"\n",
    "print(name)"
   ]
  },
  {
   "cell_type": "code",
   "execution_count": 11,
   "id": "a55ee373-4120-40a1-b2ec-67ba349f2038",
   "metadata": {},
   "outputs": [
    {
     "data": {
      "text/plain": [
       "'World'"
      ]
     },
     "execution_count": 11,
     "metadata": {},
     "output_type": "execute_result"
    }
   ],
   "source": [
    "# Q10. Given the string \"Hello, World!\", extract the substring \"World\".\n",
    "str=\"Hello, World!\"\n",
    "str[7:12]"
   ]
  },
  {
   "cell_type": "code",
   "execution_count": 13,
   "id": "dc676889-af7f-4d3e-b49e-de2f471eb9b3",
   "metadata": {},
   "outputs": [
    {
     "name": "stdout",
     "output_type": "stream",
     "text": [
      "True\n"
     ]
    }
   ],
   "source": [
    "# Q11. Create a variable named \"is_student\" and assign it a boolean value indicating whether you are\n",
    "# currently a student or not.\n",
    "is_student=True\n",
    "print(is_student)"
   ]
  },
  {
   "cell_type": "code",
   "execution_count": null,
   "id": "d46483d6-283f-443a-b5b6-4b7a1fa61a6a",
   "metadata": {},
   "outputs": [],
   "source": []
  }
 ],
 "metadata": {
  "kernelspec": {
   "display_name": "Python 3 (ipykernel)",
   "language": "python",
   "name": "python3"
  },
  "language_info": {
   "codemirror_mode": {
    "name": "ipython",
    "version": 3
   },
   "file_extension": ".py",
   "mimetype": "text/x-python",
   "name": "python",
   "nbconvert_exporter": "python",
   "pygments_lexer": "ipython3",
   "version": "3.10.8"
  }
 },
 "nbformat": 4,
 "nbformat_minor": 5
}
