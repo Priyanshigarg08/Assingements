{
 "cells": [
  {
   "cell_type": "markdown",
   "id": "08011fea-7db2-48c4-adb3-bf15935aacdf",
   "metadata": {},
   "source": [
    "Q1. Explain Class and Object with respect to Object-Oriented Programming. Give a suitable example.\n",
    "Class-  Real world  entity or a blue print of an object\n",
    "Object- Objects are the instnace of the class with a defined data"
   ]
  },
  {
   "cell_type": "markdown",
   "id": "b027fe1a-673b-4545-ac5e-d64a61254f79",
   "metadata": {},
   "source": [
    "Q2. Name the four pillars of OOPs.\n",
    "Ans- Polymorphism, Abstraction, Encapuslaution, Inheritance"
   ]
  },
  {
   "cell_type": "markdown",
   "id": "e77e47a5-3ef4-4f60-a6fe-822892a3e3fb",
   "metadata": {},
   "source": [
    "Q3. Explain why the __init__() function is used. Give a suitable example.\n",
    "Ans- __init__() function is used an instance method that initializes a newly created object. It takes the first argument followed by others."
   ]
  },
  {
   "cell_type": "markdown",
   "id": "1a2b918f-89d4-4dde-8a7a-05fd93693469",
   "metadata": {},
   "source": [
    "Q4. Why self is used in OOPs?\n",
    "Ans- self is used so that class wil have acces on function that is defined in class of which the function belogs to"
   ]
  },
  {
   "cell_type": "markdown",
   "id": "81f10677-a345-4c98-9613-d968aa2ffb8f",
   "metadata": {},
   "source": [
    "Q5. What is inheritance? Give an example for each type of inheritance.\n",
    "Ans- It is property thorugh a lower class inherites the property of upper class\n"
   ]
  },
  {
   "cell_type": "code",
   "execution_count": 4,
   "id": "19b77f92-7947-4e19-8ccd-9aae9524928b",
   "metadata": {},
   "outputs": [
    {
     "name": "stdout",
     "output_type": "stream",
     "text": [
      "this  is class test 1\n"
     ]
    }
   ],
   "source": [
    "class test1():\n",
    "    def test_class1(self):\n",
    "        print(\"this  is class test 1\")\n",
    "\n",
    "class test2(test1):\n",
    "    def test_class2(self):\n",
    "        print(\"this is class test2\")\n",
    "\n",
    "class test3(test2):\n",
    "    def test_class3(self):\n",
    "        print(\"this is class test3\")\n",
    "\n",
    "obj_3= test3()\n",
    "obj_3.test_class1()"
   ]
  },
  {
   "cell_type": "code",
   "execution_count": null,
   "id": "df6c99cc-8d13-4f7d-a4fe-e69e88c81a3f",
   "metadata": {},
   "outputs": [],
   "source": []
  }
 ],
 "metadata": {
  "kernelspec": {
   "display_name": "Python 3 (ipykernel)",
   "language": "python",
   "name": "python3"
  },
  "language_info": {
   "codemirror_mode": {
    "name": "ipython",
    "version": 3
   },
   "file_extension": ".py",
   "mimetype": "text/x-python",
   "name": "python",
   "nbconvert_exporter": "python",
   "pygments_lexer": "ipython3",
   "version": "3.12.0"
  }
 },
 "nbformat": 4,
 "nbformat_minor": 5
}
