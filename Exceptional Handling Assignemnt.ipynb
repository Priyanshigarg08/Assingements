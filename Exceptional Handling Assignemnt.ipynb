{
 "cells": [
  {
   "cell_type": "markdown",
   "id": "dc49ebed-9137-4bc9-b0c2-34e33f1486a8",
   "metadata": {},
   "source": [
    "Q1. What is an Exception in Python? Write the differnce between Exceptionas and Errors?\n",
    "Ans 1- A convention used to handle errors. It is the process of handling and responding to the unwanted errors or the unexpected Events while running a program.\n",
    "Major differnce between Execeptions and Syntax Errors- Syntax errors are the issues detected by the compiler or by Intrepreter during the runtime that prevebts the code to work. They are Basically the error in the format of writing of the code while Exceptions are the certain conditions or internal events(not standarized) that intrepets the flow of exectution and occurs during the running of the program. "
   ]
  },
  {
   "cell_type": "markdown",
   "id": "61df0ae6-01ff-4964-a78d-c81b0836c999",
   "metadata": {},
   "source": [
    "Q2. What happen when the an Exception is not handled? Give some example.\n",
    "Ans 2- Whenevef there is no exception code to handle the exceptions, the program will terminate(stop exceuting) and will print a traceback message that includes the type of exception, the error message, and the line of code where the exception occurred."
   ]
  },
  {
   "cell_type": "code",
   "execution_count": 6,
   "id": "2b689a25-cc7d-4139-a519-ec3afc35ddd0",
   "metadata": {},
   "outputs": [
    {
     "ename": "ZeroDivisionError",
     "evalue": "division by zero",
     "output_type": "error",
     "traceback": [
      "\u001b[1;31m---------------------------------------------------------------------------\u001b[0m",
      "\u001b[1;31mZeroDivisionError\u001b[0m                         Traceback (most recent call last)",
      "Cell \u001b[1;32mIn[6], line 3\u001b[0m\n\u001b[0;32m      1\u001b[0m \u001b[38;5;28;01mdef\u001b[39;00m \u001b[38;5;21mdivide\u001b[39m(a,b):\n\u001b[0;32m      2\u001b[0m     \u001b[38;5;28;01mreturn\u001b[39;00m a\u001b[38;5;241m/\u001b[39mb\n\u001b[1;32m----> 3\u001b[0m d\u001b[38;5;241m=\u001b[39m\u001b[43mdivide\u001b[49m\u001b[43m(\u001b[49m\u001b[38;5;241;43m10\u001b[39;49m\u001b[43m,\u001b[49m\u001b[38;5;241;43m0\u001b[39;49m\u001b[43m)\u001b[49m\n\u001b[0;32m      4\u001b[0m \u001b[38;5;28mprint\u001b[39m(d)\n",
      "Cell \u001b[1;32mIn[6], line 2\u001b[0m, in \u001b[0;36mdivide\u001b[1;34m(a, b)\u001b[0m\n\u001b[0;32m      1\u001b[0m \u001b[38;5;28;01mdef\u001b[39;00m \u001b[38;5;21mdivide\u001b[39m(a,b):\n\u001b[1;32m----> 2\u001b[0m     \u001b[38;5;28;01mreturn\u001b[39;00m \u001b[43ma\u001b[49m\u001b[38;5;241;43m/\u001b[39;49m\u001b[43mb\u001b[49m\n",
      "\u001b[1;31mZeroDivisionError\u001b[0m: division by zero"
     ]
    }
   ],
   "source": [
    "def divide(a,b):\n",
    "    return a/b\n",
    "d=divide(10,0)      ## there is no exception statement to the exception so an exception error mssg is printed and the code is terminated \n",
    "print(d)\n"
   ]
  },
  {
   "cell_type": "markdown",
   "id": "e3d433ec-4572-4610-bb35-d24cc5245ae6",
   "metadata": {},
   "source": [
    "Q3. Which Python statements are used to catch and handle the exceptions? Explain with an example\n",
    "Ans 3- Try statments is used to catch the exceptions. Try statements ahs the suspecious block of code which can give error while Exception satements is used to handle these exceptions.\n"
   ]
  },
  {
   "cell_type": "code",
   "execution_count": 15,
   "id": "190f01a6-daf7-444d-a3ab-71c608591145",
   "metadata": {},
   "outputs": [
    {
     "name": "stdout",
     "output_type": "stream",
     "text": [
      "This piece of code gives FileNotFound error [Errno 2] No such file or directory: 'test2.txt'\n"
     ]
    }
   ],
   "source": [
    "try:\n",
    "    f=open(\"test2.txt\",\"r\")     ## try block has suspecious code i.e exception that test2.txt may be present or not\n",
    "except Exception as e:          ## except is handling the exceptions\n",
    "    print(\"This piece of code gives FileNotFound error\",e)\n",
    "else:\n",
    "    f.close()\n",
    "    print(\"file found\")"
   ]
  },
  {
   "cell_type": "markdown",
   "id": "295cf2bd-091f-4211-8518-7eb4b9841f81",
   "metadata": {},
   "source": [
    "Q4. Explain with an example-\n",
    "1. try and else block\n",
    "2. finally\n",
    "3. raise"
   ]
  },
  {
   "cell_type": "code",
   "execution_count": 22,
   "id": "213ea6c2-4df1-4efa-8e0c-bde61c805652",
   "metadata": {},
   "outputs": [
    {
     "name": "stdout",
     "output_type": "stream",
     "text": [
      "this block will execute once try will execute itself without an exception\n"
     ]
    }
   ],
   "source": [
    "try:\n",
    "    f=open(\"test.txt\",\"w\")\n",
    "    f.write(\"there is some content\")          \n",
    "except Exception as e:\n",
    "    print(\"there is an error in my code\",e)\n",
    "else:                                          ## since the try block is succesfully excuted i.e it does not have any exceptions therefore else block is exceuted\n",
    "    f.close()\n",
    "    print(\"this block will execute once try will execute itself without an exception\")\n"
   ]
  },
  {
   "cell_type": "code",
   "execution_count": 24,
   "id": "fd4214b9-c74f-4559-b601-a39efdce2d5f",
   "metadata": {},
   "outputs": [
    {
     "name": "stdout",
     "output_type": "stream",
     "text": [
      "there is an error in my code [Errno 2] No such file or directory: 'tt2.txt'\n",
      "this is will always excute\n"
     ]
    }
   ],
   "source": [
    "try:\n",
    "    f=open(\"tt2.txt\",\"r\")\n",
    "    f.write(\"there is some content\")\n",
    "except Exception as e:                         ## since there is an excepton in try block therefore exceprion block is executed to handle this exception\n",
    "    print(\"there is an error in my code\",e)\n",
    "else:\n",
    "    f.close()\n",
    "    print(\"this block will execute once try will execute itself without an exception\")\n",
    "finally:                                    ## finally block is executed at any cost whether error is handled or not\n",
    "    print(\"this is will always excute\")"
   ]
  },
  {
   "cell_type": "code",
   "execution_count": 35,
   "id": "63b12098-dba3-4556-9aa8-f165f733d86f",
   "metadata": {},
   "outputs": [
    {
     "name": "stdout",
     "output_type": "stream",
     "text": [
      " An error occurred:  Age should more or equal to 18\n"
     ]
    }
   ],
   "source": [
    "def check_age(age):\n",
    "    if(age<18):\n",
    "        raise Exception (\"Age should more or equal to 18\")    ## exception is raise such that exception error is raise by us\n",
    "    else:\n",
    "        print(\"valid age\")\n",
    "try:  \n",
    "    check_age(17)  \n",
    "    \n",
    "except Exception as e:  \n",
    "    print(\" An error occurred: \", e)  \n",
    "    "
   ]
  },
  {
   "cell_type": "markdown",
   "id": "fa1413c8-f76c-433d-8cff-bf6df5c97047",
   "metadata": {},
   "source": [
    "Q5.What are custom Exceptions in Python? Why do we need Custom Exceptions? Explain with an example\n",
    "Ans5- Custom Exceptional Handling is used when there is a exception for us but not for the system. They allow us to define your own error conditions and handle them in a more specific and meaningful way. For Example a function is created to enter our age. System will not show error error on entering the age in negative integers but is actually not correct. So custom Exception handling will allow to give exceptions on entering the age in negative integers."
   ]
  },
  {
   "cell_type": "code",
   "execution_count": 38,
   "id": "15f2f4d8-a20d-4f1e-9b59-b2445e30ea65",
   "metadata": {},
   "outputs": [
    {
     "name": "stdin",
     "output_type": "stream",
     "text": [
      "enter your age -85\n"
     ]
    },
    {
     "name": "stdout",
     "output_type": "stream",
     "text": [
      "age should not be less than 0\n"
     ]
    }
   ],
   "source": [
    "class validateage(Exception):       #inheritance of exception class in validage class(own custom class)\n",
    "    def __init__(self,msg):\n",
    "        self.msg=msg\n",
    "def validate_age(age):\n",
    "    if age<0:\n",
    "        raise validateage(\"age should not be less than 0\")    ## rasie is used to give our Own excpetions on entering different ages\n",
    "    elif age>200:\n",
    "        raise validateage(\"age is too high\")\n",
    "    else:\n",
    "        raise validateage(\"age is valid\")\n",
    "try:\n",
    "    age=int(input('enter your age'))\n",
    "    validate_age(age)\n",
    "except Exception as e:\n",
    "    print(e)\n",
    "\n",
    "  "
   ]
  },
  {
   "cell_type": "markdown",
   "id": "2b4df17e-6aaf-4cbe-8dda-65a22baa77b0",
   "metadata": {},
   "source": [
    "Q.6 Create a custom exception class. Use this class to handle the exception."
   ]
  },
  {
   "cell_type": "code",
   "execution_count": 47,
   "id": "241ded74-88ff-48a7-bd64-8ab8578c239f",
   "metadata": {},
   "outputs": [
    {
     "name": "stdin",
     "output_type": "stream",
     "text": [
      "enter the number -96\n"
     ]
    },
    {
     "name": "stdout",
     "output_type": "stream",
     "text": [
      "natural number cannot be less than 0\n"
     ]
    }
   ],
   "source": [
    "class naturalno (Exception):\n",
    "    def __init__(self,msg):\n",
    "        self.msg=msg\n",
    "def natural_no(no):\n",
    "    if no<0:\n",
    "        raise naturalno(\"natural number cannot be less than 0\")\n",
    "    elif no==0:\n",
    "        raise naturalno(\"natural number cannot be equal to 0\")\n",
    "    else:\n",
    "        raise naturalno(\"valid natural number \")\n",
    "try:\n",
    "    no=int(input(\"enter the number\"))\n",
    "    natural_no(no)\n",
    "except Exception as e:\n",
    "    print(e)\n",
    "    \n",
    "    "
   ]
  },
  {
   "cell_type": "code",
   "execution_count": null,
   "id": "4ab892fa-17a3-4d01-828d-b73f777464f4",
   "metadata": {},
   "outputs": [],
   "source": []
  }
 ],
 "metadata": {
  "kernelspec": {
   "display_name": "Python 3 (ipykernel)",
   "language": "python",
   "name": "python3"
  },
  "language_info": {
   "codemirror_mode": {
    "name": "ipython",
    "version": 3
   },
   "file_extension": ".py",
   "mimetype": "text/x-python",
   "name": "python",
   "nbconvert_exporter": "python",
   "pygments_lexer": "ipython3",
   "version": "3.12.0"
  }
 },
 "nbformat": 4,
 "nbformat_minor": 5
}
