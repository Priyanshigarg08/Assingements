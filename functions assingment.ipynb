{
 "cells": [
  {
   "cell_type": "code",
   "execution_count": null,
   "id": "d0019f59-8e00-48e4-8410-9b02aa29fce4",
   "metadata": {},
   "outputs": [],
   "source": [
    "# Q1. Which keyword is used to create a function? Create a function to return a list of odd numbers in the\n",
    "# range of 1 to 25.\n",
    "# Ans- def keyword is used to create function.\n",
    "def odd_numbers(a):\n",
    "    n=[]\n",
    "    for i in a:\n",
    "        if i%2==0:\n",
    "            n.append(i)\n",
    "    return n\n",
    "l=[1,2,3,4,5,6,7,8,9]\n",
    "odd_numbers(l)"
   ]
  },
  {
   "cell_type": "markdown",
   "id": "d0124cae-34e1-4c53-9625-0b15e81134a6",
   "metadata": {},
   "source": [
    "Q2. Why *args and **kwargs is used in some functions? Create a function each for *args and **kwargs to\n",
    "demonstrate their use.\n",
    "Ans- *args and *krawgs are used in some functions as argumets that will takeg as many argumemts as we want.*args will take argument in any datatype but *krawgs is specifically used to take argument in only key value pair.\n"
   ]
  },
  {
   "cell_type": "code",
   "execution_count": null,
   "id": "1691af75-a97a-4a01-9563-1e2f25f42c6d",
   "metadata": {},
   "outputs": [],
   "source": [
    "def test1(*args):\n",
    "    for i in args:\n",
    "        print (i)\n",
    "test1(1,2,3,5,6)"
   ]
  },
  {
   "cell_type": "code",
   "execution_count": 23,
   "id": "ff851f72-46b8-43d4-a194-c70b53f9506d",
   "metadata": {},
   "outputs": [
    {
     "name": "stdout",
     "output_type": "stream",
     "text": [
      "a\n",
      "b\n",
      "c\n"
     ]
    },
    {
     "data": {
      "text/plain": [
       "{'a': 1, 'b': 2, 'c': 3}"
      ]
     },
     "execution_count": 23,
     "metadata": {},
     "output_type": "execute_result"
    }
   ],
   "source": [
    "def test2(**krawgs):\n",
    "    for i in krawgs.keys():\n",
    "        print (i)\n",
    "    return krawgs   \n",
    "test2(a=1,b=2,c=3)"
   ]
  },
  {
   "cell_type": "markdown",
   "id": "262cc170-3a95-4c6c-ac2b-a30526b04c16",
   "metadata": {},
   "source": [
    "Q3. What is an iterator in python? Name the method used to initialise the iterator object and the method\n",
    "used for iteration. Use these methods to print the first five elements of the given list [2, 4, 6, 8, 10, 12, 14, 16,\n",
    "18, 20].\n",
    "Ans- "
   ]
  },
  {
   "cell_type": "code",
   "execution_count": 32,
   "id": "4edc31a3-fb42-4fb8-95c1-6dbb7e260f0f",
   "metadata": {},
   "outputs": [
    {
     "name": "stdout",
     "output_type": "stream",
     "text": [
      "<generator object gen at 0x7f59d9f609e0>\n",
      "0\n",
      "1\n",
      "2\n",
      "3\n",
      "4\n",
      "5\n",
      "6\n",
      "7\n",
      "8\n",
      "9\n",
      "10\n",
      "11\n",
      "12\n",
      "13\n",
      "14\n",
      "15\n",
      "16\n",
      "17\n",
      "18\n",
      "19\n",
      "20\n",
      "21\n",
      "22\n",
      "23\n",
      "24\n",
      "25\n",
      "26\n",
      "27\n",
      "28\n",
      "29\n",
      "30\n",
      "31\n",
      "32\n",
      "33\n",
      "34\n",
      "35\n",
      "36\n",
      "37\n",
      "38\n",
      "39\n",
      "40\n",
      "41\n",
      "42\n",
      "43\n",
      "44\n",
      "45\n",
      "46\n",
      "47\n",
      "48\n",
      "49\n",
      "50\n",
      "51\n",
      "52\n",
      "53\n",
      "54\n",
      "55\n",
      "56\n",
      "57\n",
      "58\n",
      "59\n",
      "60\n",
      "61\n",
      "62\n",
      "63\n",
      "64\n",
      "65\n",
      "66\n",
      "67\n",
      "68\n",
      "69\n",
      "70\n",
      "71\n",
      "72\n",
      "73\n",
      "74\n",
      "75\n",
      "76\n",
      "77\n",
      "78\n",
      "79\n",
      "80\n",
      "81\n",
      "82\n",
      "83\n",
      "84\n",
      "85\n",
      "86\n",
      "87\n",
      "88\n",
      "89\n",
      "90\n",
      "91\n",
      "92\n",
      "93\n",
      "94\n",
      "95\n",
      "96\n",
      "97\n",
      "98\n",
      "99\n"
     ]
    }
   ],
   "source": [
    "def gen(n):\n",
    "    for i in range(n):\n",
    "        yield i\n",
    "print(gen(10000))\n",
    "for i in gen(100):\n",
    "    print (i)"
   ]
  },
  {
   "cell_type": "code",
   "execution_count": 39,
   "id": "c546a79e-74f1-414d-af1e-4b21f8d04b56",
   "metadata": {},
   "outputs": [
    {
     "name": "stdout",
     "output_type": "stream",
     "text": [
      "0\n",
      "1\n",
      "2\n",
      "3\n"
     ]
    }
   ],
   "source": [
    "def gen(n):\n",
    "    for i in range(n):\n",
    "        yield i\n",
    "obj1=(gen(4))\n",
    "print(next(obj1))\n",
    "print(next(obj1))\n",
    "print(next(obj1))\n",
    "print(next(obj1))"
   ]
  },
  {
   "cell_type": "code",
   "execution_count": 44,
   "id": "249bdc74-dcda-4bcb-b2ae-79303fd800c5",
   "metadata": {},
   "outputs": [
    {
     "ename": "TypeError",
     "evalue": "'int' object is not iterable",
     "output_type": "error",
     "traceback": [
      "\u001b[0;31m---------------------------------------------------------------------------\u001b[0m",
      "\u001b[0;31mTypeError\u001b[0m                                 Traceback (most recent call last)",
      "Cell \u001b[0;32mIn[44], line 2\u001b[0m\n\u001b[1;32m      1\u001b[0m num\u001b[38;5;241m=\u001b[39m\u001b[38;5;241m342\u001b[39m\n\u001b[0;32m----> 2\u001b[0m \u001b[38;5;28;01mfor\u001b[39;00m i \u001b[38;5;129;01min\u001b[39;00m num:\n\u001b[1;32m      3\u001b[0m     \u001b[38;5;28mprint\u001b[39m (i)\n",
      "\u001b[0;31mTypeError\u001b[0m: 'int' object is not iterable"
     ]
    }
   ],
   "source": [
    "num=342\n",
    "for i in num:\n",
    "    print (i)"
   ]
  },
  {
   "cell_type": "code",
   "execution_count": 45,
   "id": "31597533-8d95-4b14-9b09-c45ba1d04a58",
   "metadata": {},
   "outputs": [
    {
     "name": "stdout",
     "output_type": "stream",
     "text": [
      "3\n",
      "4\n",
      "2\n"
     ]
    }
   ],
   "source": [
    "num=\"342\"\n",
    "for i in num:\n",
    "    print (i)"
   ]
  },
  {
   "cell_type": "code",
   "execution_count": 48,
   "id": "8799f399-75ad-4f22-9348-5b11b5839e54",
   "metadata": {},
   "outputs": [
    {
     "name": "stdout",
     "output_type": "stream",
     "text": [
      "h\n",
      "a\n",
      "r\n",
      "r\n",
      "y\n"
     ]
    }
   ],
   "source": [
    "num=\"harry\"\n",
    "iter1=iter(num)\n",
    "print(next(iter1))\n",
    "print(next(iter1))\n",
    "print(next(iter1))\n",
    "print(next(iter1))\n",
    "print(next(iter1))d"
   ]
  },
  {
   "cell_type": "markdown",
   "id": "7ba16ac7-52b2-4b2f-9f4e-a1ae33c582fa",
   "metadata": {},
   "source": [
    "Q4. What is a generator function in python? Why yield keyword is used? Give an example of a generator\n",
    "function.\n",
    "Ans-Generator function is a function that can iterates only once i.e it can genrates only one value\n",
    "Yield keyword is used to create a generator function. It will turn expression intoa generator function.\n"
   ]
  },
  {
   "cell_type": "code",
   "execution_count": 16,
   "id": "848136d9-fe7e-4709-9c00-6757836130e0",
   "metadata": {},
   "outputs": [],
   "source": [
    "def gen(n):\n",
    "    for i in range (n):\n",
    "        yield n\n",
    "gen(10)\n",
    "s=gen(10)\n",
    "\n",
    "    \n",
    "    "
   ]
  },
  {
   "cell_type": "code",
   "execution_count": null,
   "id": "79fae3d4-9362-4f77-b160-01e1f6f86e34",
   "metadata": {},
   "outputs": [],
   "source": [
    "# Q5. Create a generator function for prime numbers less than 1000. Use the next() method to print the\n",
    "# first 20 prime numbers.\n",
    "def is_prime(n):\n",
    "        \n",
    "            if n%2==0:\n",
    "                return False   \n",
    "            elif n%3==0:\n",
    "                return False  \n",
    "            elif n%5==0:\n",
    "                \n",
    "                return False   \n",
    "            else:\n",
    "                return False   \n",
    "    \n",
    "def my_generator():\n",
    "    num=2\n",
    "    while num <1000 :\n",
    "        if is_prime(num):\n",
    "            yield num\n",
    "            num+=1\n",
    "            \n",
    "prime_no=my_generator()\n",
    "for i in range(20):\n",
    "    prime=next(prime_no)\n",
    "    print(prime)\n"
   ]
  },
  {
   "cell_type": "code",
   "execution_count": null,
   "id": "b65e54af-296a-4e17-87ae-31d6799440f6",
   "metadata": {},
   "outputs": [],
   "source": []
  }
 ],
 "metadata": {
  "kernelspec": {
   "display_name": "Python 3 (ipykernel)",
   "language": "python",
   "name": "python3"
  },
  "language_info": {
   "codemirror_mode": {
    "name": "ipython",
    "version": 3
   },
   "file_extension": ".py",
   "mimetype": "text/x-python",
   "name": "python",
   "nbconvert_exporter": "python",
   "pygments_lexer": "ipython3",
   "version": "3.10.8"
  }
 },
 "nbformat": 4,
 "nbformat_minor": 5
}
