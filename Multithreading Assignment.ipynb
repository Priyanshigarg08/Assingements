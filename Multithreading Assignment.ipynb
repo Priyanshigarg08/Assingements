{
 "cells": [
  {
   "cell_type": "markdown",
   "id": "2f332882-969b-49b7-9eb3-367d04551449",
   "metadata": {},
   "source": [
    "Q1) What is multithreading in python? Why is it used? Name the module used to handle threads in python.\n",
    "Ans- It is a concept in which all the resources are accepted in the same code to run the program. Python multithreading enables efficient utilization of the resources as the threads share the data space and memory. Multithreading in Python allows the concurrent and parallel occurrence of various tasks. It causes a reduction in time consumption or response time, thereby increasing the performance.\n",
    "Threading module is used to handle threads in python."
   ]
  },
  {
   "cell_type": "markdown",
   "id": "7ade0ac0-7899-488c-a2e9-ce62f7cb2e3a",
   "metadata": {},
   "source": [
    "Q2) Why threading module used? write the use of the following functions\n",
    "a) activeCount()\n",
    "b) currentThread()\n",
    "c) enumerate()\n",
    "Ans- Threading module allows multiple threads to exceute in the same program. While multiple threads can run simulatenously but only one thraed is executed at a particular time. Threading is helpful when working with tasks that are I/O bound.\n",
    "a) activeCount()- It is a function from the threading module which returns the number of thraeds objects alive.\n",
    "b) currentThread()- This function returns the current thread object corresponding to the caller's thread control.\n",
    "c) enumerate()- This function returns the list of all the current threads alive. This can be useful for iterating over all threads and performing operations."
   ]
  },
  {
   "cell_type": "markdown",
   "id": "ef659476-8bd9-48f3-9abc-a371ecb4c4de",
   "metadata": {},
   "source": [
    "Q3) Explain the following functions\n",
    "a) run()\n",
    "b) start()\n",
    "c) join()\n",
    "d) isAlive()\n",
    "Ans a) run()- The run() method defines the activity that a thread performs when it is started\n",
    "    b) start()- This method begins the thread activity.It starts the child process(i.e subclass implementation)\n",
    "    c) join()- This method waits to execute until child program(i.e subclass) terminates as the child program requires resources In terms of CPU or                    memory. It is basically a closing method so that the resouces will be closed immediately.\n",
    "    d) isAlive()-This method return True is the thread is stil running otherwise False."
   ]
  },
  {
   "cell_type": "markdown",
   "id": "af4dddcc-77bb-447c-9f04-041fe6079db0",
   "metadata": {},
   "source": [
    "Q4) Write a python program to create two threads. Thread one must print the list of squares and thread two must print the list of cubes."
   ]
  },
  {
   "cell_type": "code",
   "execution_count": 15,
   "id": "6c1c85b9-9046-4b93-b6d4-43fd9969a850",
   "metadata": {},
   "outputs": [
    {
     "name": "stdout",
     "output_type": "stream",
     "text": [
      "[1, 4, 9, 16, 25]\n",
      "[1, 8, 27, 64, 125]\n"
     ]
    }
   ],
   "source": [
    "import threading\n",
    "l1=[]\n",
    "l2=[]\n",
    "def square_numbers(numbers):\n",
    "    for i in numbers:\n",
    "        l1.append(i**2)\n",
    "\n",
    "def cube_numbers(numbers):\n",
    "    for i in numbers:\n",
    "        l2.append(i**3)\n",
    "\n",
    "numbers=(1,2,3,4,5)\n",
    "# thread1 = threading.Thread(target=print_squares, args=(numbers,))\n",
    "# thread2 = threading.Thread(target=print_cubes, args=(numbers,))\n",
    "thread1=threading.Thread(target=square_numbers, args=(numbers,))\n",
    "thread2=threading.Thread(target=cube_numbers,args=(numbers,))\n",
    "\n",
    "thread1.start()\n",
    "thread2.start()\n",
    "\n",
    "thread1.join()\n",
    "thread1.join()\n",
    "\n",
    "print(l1)\n",
    "print(l2)"
   ]
  },
  {
   "cell_type": "markdown",
   "id": "b8b02ffd-47be-407d-89d3-f274e6f1498b",
   "metadata": {},
   "source": [
    "Q5) State advantages and disadvantages of multithreading.\n",
    "Ans ADVANTAGES\n",
    "1) Improved performance: Multithreading can help in increasigng  the overall performance of an application, especially on systems with multiple processors or cores. It allows multiple tasks to run simultaneously, utilizing the available CPU resources more efficiently.\n",
    "\n",
    "2) \r\n",
    "Responsiveness: In a single-threaded environment, if a long-running task blocks the main thread, the entire application becomes unresponsive. Multithreading can prevent this issue by running such tasks in separate threads, ensuring the application remains responsiv\n",
    ".3) \r\n",
    "\r\n",
    "Better resource utilization: Multithreading allows better utilization of system resources by keeping the CPU busy while waiting for I/O operations or other tasks to compl\n",
    "t4) e.\r\n",
    "\r\n",
    "Simplified modeling: Some problems can be more naturally modeled using multiple threads. This makes the program easier to design, understand, and mai\n",
    "t5) ain.\r\n",
    "\r\n",
    "Parallelism: Multithreading enables parallelism, which can lead\n",
    "\n",
    "DISADVANTAGES-\n",
    "\n",
    "1) Complexity: Multithreading adds complexity to the program, making it more difficult to design, implement, and debug. Developers need to be aware of synchronization, deadlocks, race conditions, and other concurrency-related issues.\r\n",
    "2) \r\n",
    "Synchronization overhead: To avoid data corruption and maintain consistency, developers must synchronize access to shared resources, which can result in additional overhead and reduced performance.3) \r\n",
    "\r\n",
    "Context switching: Context switching between threads consumes CPU time and resources, which can lead to performance degradation if not managed efficientl4) y.\r\n",
    "\r\n",
    "Hard to predict behavior: Due to the concurrent nature of multithreading, the behavior of the program can be hard to predict and reproduce, especially when it comes to debugg5) ing.\r\n",
    "\r\n",
    "Limited by hardware: The performance benefits of multithreading are limited by the number of available cores or processors in the system. In some cases, excessive use of threads can lead to performance degradation instead of improvement. to sign"
   ]
  },
  {
   "cell_type": "markdown",
   "id": "ef24009d-740c-40cb-a07b-0e5263642afe",
   "metadata": {},
   "source": [
    "Q6) Explain deadlocks and race conditions.\n",
    "Ans Deadlock- A deadlock is a situation in a concurrent computing environment where two or more threads (or processes) are unable to proceed with their execution because each is waiting for the other to release a resource they need. This creates a cycle of dependencies that prevents any of the involved threads from progressing.Deadlock exists when two threads seek one lock simultaneously.\n",
    "\n",
    "Race conditions-A race condition occurs when the behavior of a software system depends on the relative timing of events, such as the order in which threads execute. This can lead to unpredictable results and bugs because the final outcome depends on the interleaving of operations by different threads.A race condition occurs when two threads use the same variable at a given time.\n",
    "\n"
   ]
  }
 ],
 "metadata": {
  "kernelspec": {
   "display_name": "Python 3 (ipykernel)",
   "language": "python",
   "name": "python3"
  },
  "language_info": {
   "codemirror_mode": {
    "name": "ipython",
    "version": 3
   },
   "file_extension": ".py",
   "mimetype": "text/x-python",
   "name": "python",
   "nbconvert_exporter": "python",
   "pygments_lexer": "ipython3",
   "version": "3.12.0"
  }
 },
 "nbformat": 4,
 "nbformat_minor": 5
}
