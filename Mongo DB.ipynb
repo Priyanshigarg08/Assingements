{
 "cells": [
  {
   "cell_type": "markdown",
   "id": "c16f75e7-f79a-43a6-bb96-f361ce32331c",
   "metadata": {},
   "source": [
    "Q1. What is MongoDB? Explain non-relational databases in short. In which scenarios it is preferred to use MongoDB over SQL databases?\n",
    "Ans- MongoDB is a popular, open-source, document-oriented NoSQL database designed for scalability, high performance, and ease of development. It is a  document based Databse in which data can be stored in Dictionary format or (JSON) format.\n",
    "\n",
    "A non-relational database, sometimes called NoSQL (Not Only SQL), is any kind of database that doesn’t use the tables, fields, and columns structured data concept from relational databases. Non-relational databases have been designed with the cloud in mind, making them great at horizontal scaling.\n",
    "\r",
    "It is generally preferred to use MongoDB to use over SQL Databse as is store data in unstructred format with dictionary format with key-value pair format or JSON format. It ahs ability of hanlding data of large volume of data and real-time querying capabilites.fe"
   ]
  },
  {
   "cell_type": "markdown",
   "id": "a00c9002-569a-4594-bb5c-243e30d177e4",
   "metadata": {},
   "source": [
    "Q2. State and Explain the features of MongoDB.\n",
    "Ans-MongoDB is a powerful and flexible solution for handling modern data needs. As a leading NoSQL database, MongoDB offers a dynamic schema design, enabling developers to store and manage data in a way that aligns seamlessly with contemporary application requirements. \n",
    "Unlike traditional relational databases, MongoDB’s document-oriented architecture allows for greater agility and scalability.\n",
    "\n",
    "FEATURES-\n",
    "\n",
    "1.Document-Oriented Storage: MongoDB stores data in BSON (Binary JSON) format, which allows for a rich and flexible document structure. Each document can have its own unique set of fields, facilitating a schema-less design that can adapt to changing data requirements.\n",
    "\n",
    "2.Flexible Schema: MongoDB does not require a fixed schema, meaning the structure of documents in a collection can vary. This flexibility allows for easier and more agile development, accommodating evolving application needs without complex schema migrations.\n",
    "\n",
    "3.High Performance: MongoDB is designed for high throughput and low latency. It can handle large volumes of read and write operations efficiently, making it suitable for high-performance applications such as real-time analytics and IoT.\n",
    "\n",
    "4.Indexing: MongoDB supports a wide range of indexing options, including single field, compound, geospatial, text, and hashed indexes. Efficient indexing improves query performance and allows for fast data retrieval.\n",
    "\n",
    "5.Replication and High Availability: MongoDB provides replication through replica sets, which are groups of MongoDB servers that maintain the same data set. Replica sets ensure high availability and data redundancy by automatically failing over to a secondary node if the primary node goes down.\n"
   ]
  },
  {
   "cell_type": "markdown",
   "id": "8f8681de-637d-4811-bc32-2e071b141614",
   "metadata": {},
   "source": [
    "Q3. Write a code to connect MongoDB to Python. Also, create a database and a collection in MongoDB."
   ]
  },
  {
   "cell_type": "code",
   "execution_count": null,
   "id": "a61f9621-3b53-4760-b6c2-7f190aed7f94",
   "metadata": {},
   "outputs": [],
   "source": [
    "import pymongo\n",
    "client= pymongo.MongoClient(\"Local Host\",\"abc\")\n",
    "db=client[\"pwskills\"]     ## CREATING DATABASE\n",
    "coll_create=db[\"my_record\"]   ## CREATING COLLECTION\n",
    "\n",
    "\n",
    "client.close()"
   ]
  },
  {
   "cell_type": "markdown",
   "id": "af007b4b-5a4b-42ab-888e-7f48b75ad13b",
   "metadata": {},
   "source": [
    "Q4. Using the database and the collection created in question number 3, write a code to insert one record,and insert many records. Use the find() and    find_one() methods to print the inserted record."
   ]
  },
  {
   "cell_type": "code",
   "execution_count": null,
   "id": "1d873e51-d82b-4138-84a0-d09047d91ae0",
   "metadata": {},
   "outputs": [],
   "source": [
    "import pymongo\n",
    "client= pymongo.MongoClient(\"Local Host\",\"abc\")\n",
    "db=client[\"pwskills\"]     ## CREATING DATABASE\n",
    "coll_create=db[\"my_record\"]   ## CREATING COLLECTION\n",
    "data=[\"name\":\"ramesh\",\"class\":\"data science\"]\n",
    "`\n",
    "coll_create.insert_one(data)\n",
    "for i in coil_create.find():\n",
    "    print(i)\n",
    "\n",
    "a=coll_create.find_one()\n",
    "print(a)\n",
    "\n",
    "client.close()"
   ]
  },
  {
   "cell_type": "markdown",
   "id": "85112397-12b3-4e4c-a9b6-bbe3cc74a638",
   "metadata": {},
   "source": [
    "Q5. Explain how you can use the find() method to query the MongoDB database. Write a simple code to demonstrate this."
   ]
  },
  {
   "cell_type": "code",
   "execution_count": null,
   "id": "ff92ba0e-c09e-4a46-9884-4247ef8086c3",
   "metadata": {},
   "outputs": [],
   "source": [
    "import pymongo\n",
    "client= pymongo.MongoClient(\"Local Host\",\"abc\")\n",
    "db=client[\"pwskills\"]     ## CREATING DATABASE\n",
    "coll_create=db[\"my_record\"]   ## CREATING COLLECTION\n",
    "data=[\"name\":\"ramesh\",\"class\":\"data science\"]\n",
    "`\n",
    "coll_create.insert_one(data)\n",
    "for i in coil_create.find():\n",
    "    print(i)\n",
    "\n",
    "a=coll_create.find_one()     ## method to find\n",
    "print(a)\n",
    "\n",
    "client.close()"
   ]
  },
  {
   "cell_type": "markdown",
   "id": "458b516b-bdd4-4fe5-95b3-3abc4e69e7b9",
   "metadata": {},
   "source": [
    "Q6. Explain the sort() method. Give an example to demonstrate sorting in MongoDB."
   ]
  },
  {
   "cell_type": "code",
   "execution_count": null,
   "id": "b8345e97-ec9c-4e11-95c8-028e68baf51e",
   "metadata": {},
   "outputs": [],
   "source": [
    "from pymongo import MongoClient\n",
    "client = MongoClient('localhost', 27017)\n",
    "db = client['mydatabase']\n",
    "collection = db['mycollection']\n",
    "\n",
    "sample_documents = [\n",
    "    {\"name\": \"Alice Smith\", \"email\": \"alice.smith@example.com\", \"age\": 25},\n",
    "    {\"name\": \"Bob Johnson\", \"email\": \"bob.johnson@example.com\", \"age\": 35},\n",
    "    {\"name\": \"Carol Williams\", \"email\": \"carol.williams@example.com\", \"age\": 29},\n",
    "    {\"name\": \"David Brown\", \"email\": \"david.brown@example.com\", \"age\": 42},\n",
    "    {\"name\": \"Eve Davis\", \"email\": \"eve.davis@example.com\", \"age\": 35}\n",
    "]\n",
    "collection.insert_many(sample_documents)\n",
    "\n",
    "# Sort documents by age in ascending order\n",
    "sorted_documents_ascending = collection.find().sort(\"age\", 1)\n",
    "print(\"Documents sorted by age in ascending order:\")\n",
    "for document in sorted_documents_ascending:\n",
    "    print(document)\n",
    "\n",
    "# Sort documents by age in descending order\n",
    "sorted_documents_descending = collection.find().sort(\"age\", -1)\n",
    "print(\"Documents sorted by age in descending order:\")\n",
    "for document in sorted_documents_descending:\n",
    "    print(document)\n",
    "\n",
    "# Sort documents by age in ascending order and then by name in ascending order\n",
    "sorted_documents_multiple = collection.find().sort([(\"age\", 1), (\"name\", 1)])\n",
    "print(\"Documents sorted by age in ascending order and then by name in ascending order:\")\n",
    "for document in sorted_documents_multiple:\n",
    "    print(document)\n",
    "    \n",
    "client.close()"
   ]
  },
  {
   "cell_type": "markdown",
   "id": "bbb7a7e4-73cb-4079-bb48-6a4b62f4f9cb",
   "metadata": {},
   "source": [
    "Q7. Explain why delete_one(), delete_many(), and drop() is used.\n",
    "Ans-1 \n",
    "detele_one()- The delete_one() method is used to delete a single document that matches the specified filter criteria. It deletes only the first document that matches the filter criteria, even if multiple documents match the filter.\n",
    "\n",
    "delete_many()-The delete_many() method is used to delete multiple documents that match the sspecified filter criteria. It deletes all documents that match the filter criteria.\n",
    "\n",
    "drop()- The drop() method is used to remove an entire collection from the database. It deletes the collection and all the documents within it, effectively removing the collection entirely."
   ]
  }
 ],
 "metadata": {
  "kernelspec": {
   "display_name": "Python 3 (ipykernel)",
   "language": "python",
   "name": "python3"
  },
  "language_info": {
   "codemirror_mode": {
    "name": "ipython",
    "version": 3
   },
   "file_extension": ".py",
   "mimetype": "text/x-python",
   "name": "python",
   "nbconvert_exporter": "python",
   "pygments_lexer": "ipython3",
   "version": "3.12.0"
  }
 },
 "nbformat": 4,
 "nbformat_minor": 5
}
