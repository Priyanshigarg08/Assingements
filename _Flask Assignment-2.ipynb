{
 "cells": [
  {
   "cell_type": "markdown",
   "id": "322684ef-62c2-496d-8456-482643072083",
   "metadata": {},
   "source": [
    "Q1. Explain GET and POST methods.\n",
    "Ans- GET is used to retrieve information without making any changes to the resource. It includes request parameters in the URL and is idempotent and safe.\n",
    "     It requests are typically used for fetching data to display in web pages\n",
    "POST is used to send data to the server, which may change the resource state. It includes data in the request body and is not idempotent or safe.It        requests are used for submitting forms, uploading files, and performing actions that change the server's state."
   ]
  },
  {
   "cell_type": "markdown",
   "id": "d81700a3-1d04-460e-9a44-c68193c40ff6",
   "metadata": {},
   "source": [
    "Q2. Why is request used in Flask?\n",
    "Ans- In Flask, the request object is used to handle and retrieve data from HTTP requests made to the application. It provides access to the data sent by the client, such as form data, query parameters, headers, cookies, and file uploads.\n",
    "When a user submits a form, the data can be accessed using requestform and data appended to the URL can be accessed using request.args."
   ]
  },
  {
   "cell_type": "markdown",
   "id": "39e25913-94f2-4b8e-8865-441aad2542d0",
   "metadata": {},
   "source": [
    "Q3. Why is redirect() used in Flask?\n",
    "Ans- In Flask, the redirect() function is used to send a user to a different endpoint. This is particularly useful in various web application scenarios, such as after form submissions, during authentication workflows, or when handling errors. It is a common design pattern for web applications to prevent duplicate form submissions. After processing a POST request (e.g., form submission), you redirect the user to a new GET request to display the result."
   ]
  },
  {
   "cell_type": "markdown",
   "id": "d76037ef-3ff4-4a18-b783-00fd984275c2",
   "metadata": {},
   "source": [
    "Q4. What are templates in Flask? Why is the render_template() function used?\n",
    "Ans -Templates in Flask are HTML files that are used to separate the presentation logic from the application logic. They enable developers to create dynamic web pages by embedding Python-like expressions and statements within HTML. Flask uses Jinja2 as its template engine, which provides a powerful way to generate HTML dynamically.\n",
    "\n",
    "The render_template() function in Flask is used to render these template files. It combines a template with a context dictionary and returns a string with the rendered content. It takes the template file and the data to be displayed and generates the final HTML to be sent to the client.It also allows you to pass Python variables and objects to the template, which can then be used to render dynamic content.\n"
   ]
  },
  {
   "cell_type": "markdown",
   "id": "84bb30da-4bd4-4353-b809-d410587d876d",
   "metadata": {},
   "source": [
    "Q5. Create a simple API. Use Postman to test it. Attach the screenshot of the output in the Jupyter Notebook."
   ]
  },
  {
   "cell_type": "code",
   "execution_count": null,
   "id": "2cb3c853-cc4b-46bb-9a85-684b691964ba",
   "metadata": {},
   "outputs": [],
   "source": [
    "from flask import Flask,request ,render_template , jsonify\n",
    "\n",
    "app = Flask(__name__)\n",
    "\n",
    "\n",
    "@app.route('/')\n",
    "def home_page():\n",
    "    return render_template('index.html')\n",
    "\n",
    "\n",
    "@app.route('/math',methods=['POST'])\n",
    "def math_ops():\n",
    "    if(request.method == 'POST'):\n",
    "        ops = request.form['operation']\n",
    "        num1 = int(request.form['num1'])\n",
    "        num2 = int(request.form['num2'])\n",
    "        if ops == 'add':\n",
    "            r = num1+num2\n",
    "            result = \"The sum of \" + str(num1) + ' and ' + str(num2) + \"is \" + str(r)\n",
    "        \n",
    "        if ops == 'subtract':\n",
    "            r = num1-num2\n",
    "            result = \"The subratction of \" + str(num1) + ' and ' + str(num2) + \"is \" + str(r)\n",
    "        \n",
    "        if ops == 'multiply':\n",
    "            r = num1*num2\n",
    "            result = \"The ptoduct of \" + str(num1) + ' and ' + str(num2) + \"is \" + str(r)\n",
    "        \n",
    "        if ops == 'divide':\n",
    "            r = num1 /num2\n",
    "            result = \"The division of \" + str(num1) + ' and ' + str(num2) + \"is \" + str(r)\n",
    "            \n",
    "            \n",
    "        return render_template('results.html' , result = result)\n",
    "\n",
    "if __name__==\"__main__\":\n",
    "    app.run(host=\"0.0.0.0\")"
   ]
  },
  {
   "attachments": {
    "df393e91-a7f3-4c4c-9da7-de45816c797f.PNG": {
     "image/png": "[encoded data removed]"
    }
   },
   "cell_type": "markdown",
   "id": "a0c78c33-8dfe-4952-8ef9-efd78b714be5",
   "metadata": {},
   "source": [
    "![Capture1.PNG](attachment:df393e91-a7f3-4c4c-9da7-de45816c797f.PNG)"
   ]
  },
  {
   "attachments": {
    "91b82bb4-c6c1-4a98-8060-d2f4ebb33542.PNG": {
     "image/png": "[encoded data removed]"
    }
   },
   "cell_type": "markdown",
   "id": "ac5776e1-aa89-49a9-9577-1263a6bc0972",
   "metadata": {},
   "source": [
    "![Capture3.PNG](attachment:91b82bb4-c6c1-4a98-8060-d2f4ebb33542.PNG)"
   ]
  },
  {
   "cell_type": "code",
   "execution_count": null,
   "id": "62a882cb-4be1-410e-88cf-be070172c9b0",
   "metadata": {},
   "outputs": [],
   "source": []
  }
 ],
 "metadata": {
  "kernelspec": {
   "display_name": "Python 3 (ipykernel)",
   "language": "python",
   "name": "python3"
  },
  "language_info": {
   "codemirror_mode": {
    "name": "ipython",
    "version": 3
   },
   "file_extension": ".py",
   "mimetype": "text/x-python",
   "name": "python",
   "nbconvert_exporter": "python",
   "pygments_lexer": "ipython3",
   "version": "3.12.0"
  }
 },
 "nbformat": 4,
 "nbformat_minor": 5
}
