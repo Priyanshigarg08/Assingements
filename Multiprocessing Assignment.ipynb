{
 "cells": [
  {
   "cell_type": "markdown",
   "id": "c33c5a4a-cec0-43e0-bbe8-ded94696e5c6",
   "metadata": {},
   "source": [
    "Q1. What is multiprocessing in python? Why is it useful?\n",
    "Ans- A multiprocessing module in Python allows controlling several processes easily. In Multiprocessing different programs run in different processors Parallely.. It is very useful as it consumes less time and resorces can be utilized efficiently."
   ]
  },
  {
   "cell_type": "markdown",
   "id": "52093d10-f487-4735-a26f-a2c971d39921",
   "metadata": {},
   "source": [
    "Q2. What are the differences between multiprocessing and multithreading?\n",
    "Ans- Multiprocessing is a conecpt in which all the resources are occupied in the same code to run the program while in multithreading different program runs in different processors parallely. Multiprocessing uses two or more CPUs to increase computing power, whereas multithreading uses a single process with multiple code segments to increase computing power."
   ]
  },
  {
   "cell_type": "markdown",
   "id": "5f9f3ac0-3866-4769-a047-f5aad2b08a04",
   "metadata": {},
   "source": [
    "Q3. Write a python code to create a process using the multiprocessing module."
   ]
  },
  {
   "cell_type": "code",
   "execution_count": 1,
   "id": "820f337d-c66d-4b2a-9865-5526ecd89a23",
   "metadata": {},
   "outputs": [
    {
     "name": "stdout",
     "output_type": "stream",
     "text": [
      "[2, 3, 4, 5, 67, 6]\n"
     ]
    }
   ],
   "source": [
    "import multiprocessing\n",
    "\n",
    "def square(index,value):\n",
    "    value[index]=value[index]**2\n",
    "\n",
    "if __name__==\"__main__\":\n",
    "    arr=multiprocessing.Array(\"i\",[2,3,4,5,67,6])\n",
    "    process=[]\n",
    "    for i in range(6):\n",
    "        m=multiprocessing.Process(target=square,args=(i,arr))\n",
    "        process.append(m)\n",
    "        m.start()\n",
    "    for m in process:\n",
    "            m.join()\n",
    "    print(list(arr))\n"
   ]
  },
  {
   "cell_type": "markdown",
   "id": "967d512c-b504-4539-8e2d-ece14c5c870f",
   "metadata": {},
   "source": [
    "Q4. What is a multiprocessing pool in python? Why is it used?\n",
    "Ans The multiprocessing module in Python provides a mechanism to create and manage multiple processes. One of the key features of this module is the Pool class, which allows you to parallelize the execution of a function across multiple input values, distributing the input data across processes.\n",
    "\n",
    "It is very useful as pool class provides convenient methods for parallelizing execution using multiple processes, making it easier to distribute tasks among a set of worker processes and manage their execution. By distributing tasks among multiple processes, it maximizes CPU usage and reduces the time needed to complete tasks."
   ]
  },
  {
   "cell_type": "markdown",
   "id": "9a1ffe0d-c05e-4c24-82a3-ad927a76e54a",
   "metadata": {},
   "source": [
    "Q5. How can we create a pool of worker processes in python using the multiprocessing module?"
   ]
  },
  {
   "cell_type": "code",
   "execution_count": null,
   "id": "0a63effd-fbbd-4034-b87d-6c4cdb2af7d4",
   "metadata": {},
   "outputs": [],
   "source": [
    "def square(n):\n",
    "    return n**2\n",
    "if __name__==\"__main__\":\n",
    "    with multiprocessing.Pool(processes=5) as pool:\n",
    "        out=pool.map(square,[3,4,5,6,7])\n",
    "        print(out)\n",
    "print(out)"
   ]
  },
  {
   "cell_type": "markdown",
   "id": "98107291-b46e-48e4-98c1-89cd3b090646",
   "metadata": {},
   "source": [
    "Q6. Write a python program to create 4 processes, each process should print a different number using the multiprocessing module in python."
   ]
  },
  {
   "cell_type": "code",
   "execution_count": null,
   "id": "97d5651e-72db-427f-b3c7-5ae6b942027a",
   "metadata": {},
   "outputs": [],
   "source": [
    "import multiprocessing\n",
    "\n",
    "def print_number(number):\n",
    "    print(\"Number: {number}\")\n",
    "\n",
    "if __name__ == \"__main__\":\n",
    "    numbers = [1, 2, 3, 4]\n",
    "    processes = []\n",
    "    \n",
    "for i in numbers:\n",
    "    process = multiprocessing.Process(target=print_number, args=(i,))\n",
    "    processes.append(process)\n",
    "    process.start()\n",
    "    \n",
    "for process in processes:\n",
    "    process.join()\n",
    "\n",
    "print(\"All processes have finished execution.\")"
   ]
  },
  {
   "cell_type": "code",
   "execution_count": null,
   "id": "7d67a296-54fa-401e-8030-72af765b3a4f",
   "metadata": {},
   "outputs": [],
   "source": []
  }
 ],
 "metadata": {
  "kernelspec": {
   "display_name": "Python 3 (ipykernel)",
   "language": "python",
   "name": "python3"
  },
  "language_info": {
   "codemirror_mode": {
    "name": "ipython",
    "version": 3
   },
   "file_extension": ".py",
   "mimetype": "text/x-python",
   "name": "python",
   "nbconvert_exporter": "python",
   "pygments_lexer": "ipython3",
   "version": "3.12.0"
  }
 },
 "nbformat": 4,
 "nbformat_minor": 5
}
