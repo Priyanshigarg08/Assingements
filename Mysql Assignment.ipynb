{
 "cells": [
  {
   "cell_type": "markdown",
   "id": "6366d226-ade0-4fa6-8faf-a8e379ab8034",
   "metadata": {},
   "source": [
    "Q1. What is a database? Differentiate between SQL and NoSQL databases.\n",
    "Ans- While creating any appliaction, we have to store the data in databse. Database is an organized collection of data stord in structred way in the form of tables. As on storing data in variables, we can accces them in the run-time only.\n",
    "\n",
    "SQL DATABASES- SQL stands for structured Querey langyage which stores data only in structured way.\n",
    "-Data is stored in the form of tables\n",
    "EX- MySQL, MsSQL, BD2, oracle,etc.\n",
    "\n",
    "NoSQL DATABSES- NoSQL satnd for not only SQl i.e data can stored in structured way as well as in non-structued way.\n",
    "-Unstructed files such as text files, audio and vedio files can be stored\n",
    "EX- MongoDB, Neo4j, hbase,etc."
   ]
  },
  {
   "cell_type": "markdown",
   "id": "c1fea907-f47d-4ee0-b1b2-2d49baa1c307",
   "metadata": {},
   "source": [
    "Q2. What is DDL? Explain why CREATE, DROP, ALTER, and TRUNCATE are used with an example.\n",
    "Ans- DDL stands for Data Defintion langauge. It is a subset of SQL (Structured Query Language) used in database management systems to define and manage the structure of database objects such as tables, indexes, views, and schemas. \n",
    "\n",
    "CREATE- This statement is used to create new databse objects.\n",
    "Ex- CREATE DATABASE student_info;\n",
    "\n",
    "DROP- This satement is used to delete the existing databse objects.\n",
    "Ex- DROP TABLE index;\n",
    "\n",
    "ALTER- This satement is used to modify the existing databse objects.\n",
    "EX- ALTER TABLE employee ADD salary package;\n",
    "      \n",
    "TRUNCATE- This satement is used to to delete all the rows wihtout disturbing the strcuture of the table.\n",
    "EX- TRUNCATE TABLE employee;\n",
    "    SELECT employee_no FROM employee;"
   ]
  },
  {
   "cell_type": "markdown",
   "id": "9743df2a-4f02-4036-921d-c18340d014d3",
   "metadata": {},
   "source": [
    "Q3. What is DML? Explain INSERT, UPDATE, and DELETE with an example.\n",
    "Ans- DML satnds for data defintion lanaguge. Commands of DML are used to manupulate/retrive tuples.\n",
    "\n",
    "INSERT- This command is used to insert the values of the tables.\n",
    "Ex- INSERT INTO books\n",
    "    VALUES(\"python\",\"Sumita Arora\",\"Let us C\");\n",
    "\n",
    "\n",
    "UPDATE- This command is used to update the existing value of the table with a new value.\n",
    "Ex- UPDATE  Cd\n",
    "    SET singer=\"KK\"\n",
    "    Where singer=\"hari\"\n",
    "\n",
    "DELETE- This command is used to delete data from the table\n",
    "Ex- DELETE FROM emp;\n",
    "    WHERE salary<10000;"
   ]
  },
  {
   "cell_type": "markdown",
   "id": "14811f26-69cd-4485-a8f0-a5e7acb8c3c3",
   "metadata": {},
   "source": [
    "Q4. What is DQL? Explain SELECT with an example.\n",
    "Ans- DQL is a portion of a SQL statement that allows you to get and organise data from a database.\n",
    "\n",
    "SELECT- The puropose of select command is to retrieve data from the database table.\n",
    "Ex- SELECT name FROM employee_name;"
   ]
  },
  {
   "cell_type": "markdown",
   "id": "452308eb-ad1b-41a4-bac4-46e3514d1820",
   "metadata": {},
   "source": [
    "Q5. Explain Primary Key and Foreign Key.\n",
    "Ans- Primary key- A primary key is a set of one or more fields which uniquely identify a tuple/row/ record in a table.\n",
    "     Foreign Key- A foreign key is an non-key attribute whose value is derived from the primary key of another table."
   ]
  },
  {
   "cell_type": "markdown",
   "id": "c5378822-3631-4da2-b51c-a6df1704dffd",
   "metadata": {},
   "source": [
    "Q6. Write a python code to connect MySQL to python. Explain the cursor() and execute() method."
   ]
  },
  {
   "cell_type": "code",
   "execution_count": null,
   "id": "b5b395ca-799c-4f08-8699-639fc872f3ec",
   "metadata": {},
   "outputs": [],
   "source": [
    "import mysql.connector\n",
    "mydb=mysql.connector.connect(\n",
    "    host=\"local host\"\n",
    "    user=\"abc\"\n",
    "    password=\"password\")\n",
    "\n",
    "print(mydb)\n",
    "mycursor=mydb.cusror()\n",
    "cursor=mycursor.excecute(\"SHOW DATABSES\")\n",
    "myd.close()"
   ]
  },
  {
   "cell_type": "markdown",
   "id": "326798ff-464b-4edb-8cb5-5b87f11449fe",
   "metadata": {},
   "source": [
    "cursor()- cursor is a database object that is used to interact with the database. It fetches the data from the databse that is to be executed.\n",
    "execute()- excecute is an object of cursor that excutes the cursor()i.e excecutes that query by excecuting the cursor which fetches the data."
   ]
  },
  {
   "cell_type": "markdown",
   "id": "6493b6d4-9a99-4c80-b1fb-f3620b801199",
   "metadata": {},
   "source": [
    "Q7. Give the order of execution of SQL clauses in an SQL query.\n",
    "Ans- Getting Data (FROM/JOIN)\r",
    "     \n",
    "Row Filter (WHERE)     \r\n",
    "Grouping (GROUP BY     )\r\n",
    "Group Filter (HAVIN     G)\r\n",
    "Return Expression (SELE     CT)\r\n",
    "Order & Paging (ORDER BY & LIMIT/OFause \t"
   ]
  }
 ],
 "metadata": {
  "kernelspec": {
   "display_name": "Python 3 (ipykernel)",
   "language": "python",
   "name": "python3"
  },
  "language_info": {
   "codemirror_mode": {
    "name": "ipython",
    "version": 3
   },
   "file_extension": ".py",
   "mimetype": "text/x-python",
   "name": "python",
   "nbconvert_exporter": "python",
   "pygments_lexer": "ipython3",
   "version": "3.12.0"
  }
 },
 "nbformat": 4,
 "nbformat_minor": 5
}
