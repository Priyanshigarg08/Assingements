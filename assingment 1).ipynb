{
 "cells": [
  {
   "cell_type": "markdown",
   "id": "257cb4cc-3a75-46ec-afe0-67a1848be1ba",
   "metadata": {},
   "source": [
    "Q1. Create one variable containing following type of data:\n",
    "(i) string - a=\"PW Skills\"\n",
    "(ii) list - lst= [\"apple\",\"mango\",\"banana\",\"12\"]\n",
    "(iii) float- value=10.29\n",
    "(iv) tuple- (122,65,\"hello\")\n"
   ]
  },
  {
   "cell_type": "markdown",
   "id": "5460eb58-b100-469e-959c-e67dd6ff6ab0",
   "metadata": {},
   "source": [
    "Q2. Given are some following variables containing data:\n",
    "(i) var1 = ‘ ‘\n",
    "(ii) var2 = ‘[ DS , ML , Python]’\n",
    "(iii) var3 = [ ‘DS’ , ’ML’ , ‘Python’ ]\n",
    "(iv) var4 = 1.\n",
    "What will be the data type of the above given variable.\n",
    "Ans i) string\n",
    "    ii) string\n",
    "    iii) list\n",
    "    iv) integer\n",
    "    "
   ]
  },
  {
   "cell_type": "markdown",
   "id": "2c25e2bc-9fb4-4f7e-a2eb-f2f614c7fded",
   "metadata": {},
   "source": [
    "Q3. Explain the use of the following operators using an example:\n",
    "(i) /\n",
    "(ii) %\n",
    "(iii) //\n",
    "(iv) **\n",
    "i) It is used to give quotient value after  dividing an integer with another integer\n",
    "ii) It is used to give the value of remainder left after the division\n",
    "iii) It is used ti give integer value of the quotient\n",
    "iv) This operator is used as expotential operator "
   ]
  },
  {
   "cell_type": "markdown",
   "id": "e18b7fdc-7217-413d-b22a-0ceb357ae6fb",
   "metadata": {},
   "source": [
    "Q4. Create a list of length 10 of your choice containing multiple types of data. Using for loop print the\n",
    "element and its data type.\n"
   ]
  },
  {
   "cell_type": "code",
   "execution_count": 7,
   "id": "17b5f589-2a2a-42d5-88ac-4210d628baaf",
   "metadata": {},
   "outputs": [
    {
     "name": "stdout",
     "output_type": "stream",
     "text": [
      "apple its type- <class 'str'>\n",
      "1 its type- <class 'int'>\n",
      "9 its type- <class 'int'>\n",
      "67.9 its type- <class 'float'>\n",
      "hello world its type- <class 'str'>\n",
      "('python', 'Java', 'C++') its type- <class 'tuple'>\n",
      "['sub', 'eng'] its type- <class 'list'>\n",
      "87 its type- <class 'int'>\n",
      "{'key': 8} its type- <class 'dict'>\n",
      "990 its type- <class 'int'>\n"
     ]
    }
   ],
   "source": [
    "lst=[\"apple\", 1,9,67.9,\"hello world\", (\"python\",\"Java\",\"C++\"),[\"sub\",\"eng\"], 87, {'key':8},990]\n",
    "for i in lst:\n",
    "    print(i, \"its type-\",type(i))\n",
    "\n",
    "                                       \n",
    "                                        "
   ]
  },
  {
   "cell_type": "markdown",
   "id": "0bf3f92d-40bf-48e4-9134-0ed25e2796e9",
   "metadata": {},
   "source": [
    "Q5. Using a while loop, verify if the number A is purely divisible by number B and if so then how many\n",
    "times it can be divisible.\n"
   ]
  },
  {
   "cell_type": "code",
   "execution_count": 6,
   "id": "a252129a-e067-4b30-acf8-403b72cf3a51",
   "metadata": {},
   "outputs": [
    {
     "name": "stdin",
     "output_type": "stream",
     "text": [
      "enter the value of A 89\n",
      "enter the value of B 9\n"
     ]
    },
    {
     "name": "stdout",
     "output_type": "stream",
     "text": [
      "The number 89 is divisble by 9 0 times\n"
     ]
    }
   ],
   "source": [
    "A=int(input(\"enter the value of A\"))\n",
    "B=int(input(\"enter the value of B\"))\n",
    "count=0\n",
    "while A%B==0:\n",
    "      A=A//B\n",
    "      count+=1\n",
    "print(\"The number\",A, \"is divisble by\",B,\",\"(count),\"times\")"
   ]
  },
  {
   "cell_type": "markdown",
   "id": "0f2802b7-d598-4837-961b-6feb5244307c",
   "metadata": {},
   "source": [
    "Q6. Create a list containing 25 int type data. Using for loop and if-else condition print if the element is\n",
    "divisible by 3 or not."
   ]
  },
  {
   "cell_type": "code",
   "execution_count": 1,
   "id": "a3a859fd-0df4-4d74-ab84-1fa5d92b19b3",
   "metadata": {},
   "outputs": [
    {
     "name": "stdout",
     "output_type": "stream",
     "text": [
      "8 the number is not divisible by 3\n",
      "9 the number is dvisible by 3\n",
      "76 the number is not divisible by 3\n",
      "66 the number is dvisible by 3\n",
      "32 the number is not divisible by 3\n",
      "88 the number is not divisible by 3\n",
      "10 the number is not divisible by 3\n",
      "23 the number is not divisible by 3\n",
      "3 the number is dvisible by 3\n",
      "58 the number is not divisible by 3\n",
      "4 the number is not divisible by 3\n",
      "56 the number is not divisible by 3\n",
      "98 the number is not divisible by 3\n",
      "4 the number is not divisible by 3\n",
      "57 the number is dvisible by 3\n",
      "21 the number is dvisible by 3\n",
      "12 the number is dvisible by 3\n",
      "4 the number is not divisible by 3\n",
      "23 the number is not divisible by 3\n",
      "43 the number is not divisible by 3\n",
      "90 the number is dvisible by 3\n",
      "198 the number is dvisible by 3\n",
      "24 the number is dvisible by 3\n",
      "95 the number is not divisible by 3\n",
      "67 the number is not divisible by 3\n"
     ]
    }
   ],
   "source": [
    "lst=[8,9,76,66,32,88,10,23,3,58,4,56,98,4,57,21,12,4,23,43,90,198,24,95,67]\n",
    "for i in lst:\n",
    "    if i%3==0:\n",
    "        print(i,\"the number is dvisible by 3\")\n",
    "    else:\n",
    "        print(i,\"the number is not divisible by 3\")"
   ]
  },
  {
   "cell_type": "markdown",
   "id": "9c35142c-6b84-4198-a9bd-850613ef9329",
   "metadata": {},
   "source": [
    "Q7. What do you understand about mutable and immutable data types? Give examples for both showing\n",
    "this property.\n"
   ]
  },
  {
   "cell_type": "code",
   "execution_count": 12,
   "id": "35647520-2670-4f93-adad-ab8103bc3f08",
   "metadata": {},
   "outputs": [
    {
     "name": "stdout",
     "output_type": "stream",
     "text": [
      "['apple', 'mango', 'banana', 'date', 'orange']\n"
     ]
    },
    {
     "ename": "TypeError",
     "evalue": "'tuple' object does not support item assignment",
     "output_type": "error",
     "traceback": [
      "\u001b[0;31m---------------------------------------------------------------------------\u001b[0m",
      "\u001b[0;31mTypeError\u001b[0m                                 Traceback (most recent call last)",
      "Cell \u001b[0;32mIn[12], line 8\u001b[0m\n\u001b[1;32m      5\u001b[0m \u001b[38;5;28mprint\u001b[39m(lst)\n\u001b[1;32m      7\u001b[0m \u001b[38;5;28mtuple\u001b[39m\u001b[38;5;241m=\u001b[39m(\u001b[38;5;241m56\u001b[39m,\u001b[38;5;241m78\u001b[39m,\u001b[38;5;241m90\u001b[39m,\u001b[38;5;241m123\u001b[39m,\u001b[38;5;241m54\u001b[39m,\u001b[38;5;241m97\u001b[39m)\n\u001b[0;32m----> 8\u001b[0m \u001b[38;5;28;43mtuple\u001b[39;49m\u001b[43m[\u001b[49m\u001b[38;5;241;43m3\u001b[39;49m\u001b[43m]\u001b[49m\u001b[38;5;241m=\u001b[39m\u001b[38;5;241m56\u001b[39m\n\u001b[1;32m      9\u001b[0m \u001b[38;5;28mprint\u001b[39m(\u001b[38;5;28mtuple\u001b[39m)\n",
      "\u001b[0;31mTypeError\u001b[0m: 'tuple' object does not support item assignment"
     ]
    }
   ],
   "source": [
    "# MUTUBABLE DATATYPES- Datatypes whose values can be changed. Ex- list, dictionary\n",
    "# IMMUTABLE DATATYPES- Datatypes in which values can't e changed. Ex- int,string,tuple\n",
    "lst=[\"apple\",\"mango\",\"banana\",\"grapes\",\"orange\"]\n",
    "lst[3]=\"date\"          #here index 3 of lst cahnges from garpes to date\n",
    "print(lst)\n",
    "\n",
    "tuple=(56,78,90,123,54,97)\n",
    "tuple[3]=56             # ERROR will occur as tuple are immutable data type ad hence do not changes its value\n",
    "print(tuple)\n"
   ]
  },
  {
   "cell_type": "code",
   "execution_count": null,
   "id": "545ca5e4-3b1a-40a3-bd6f-0eda457347f1",
   "metadata": {},
   "outputs": [],
   "source": []
  }
 ],
 "metadata": {
  "kernelspec": {
   "display_name": "Python 3 (ipykernel)",
   "language": "python",
   "name": "python3"
  },
  "language_info": {
   "codemirror_mode": {
    "name": "ipython",
    "version": 3
   },
   "file_extension": ".py",
   "mimetype": "text/x-python",
   "name": "python",
   "nbconvert_exporter": "python",
   "pygments_lexer": "ipython3",
   "version": "3.10.8"
  }
 },
 "nbformat": 4,
 "nbformat_minor": 5
}
