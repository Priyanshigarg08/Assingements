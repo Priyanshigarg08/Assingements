{
 "cells": [
  {
   "cell_type": "markdown",
   "id": "559dd476-cc8d-4765-ba9b-eafd41fa029b",
   "metadata": {},
   "source": [
    "Q1. What is an API? Give an example, where an API is used in real life.\n",
    "Ans- API stand for Appication Programming Interface which is used o estalish efficient connections between different languages and different frameworks. APIs are essential for enabling different software systems to work together, allowing them to share data and functionality.\n",
    "A common real-life example of an API is the integration of payment gateways in online shopping websites. When you make a purchase on an e-commerce site like Amazon, the site uses an API to communicate with a payment processor such as PayPal, Stripe, or a bank's payment system.\n"
   ]
  },
  {
   "cell_type": "markdown",
   "id": "5e937bda-258a-4579-afe3-c28f44bdf650",
   "metadata": {},
   "source": [
    "Q2. Give advantages and disadvantages of using API.\n",
    "Ans- Advantages of Using API\n",
    "Integration: APIs enable different software systems to communicate and work together seamlessly, allowing for the integration of various functionalities and services from different sources.\n",
    "\n",
    "Efficiency: By leveraging existing APIs, developers can save time and resources, avoiding the need to build functionalities from scratch. This accelerates development and deployment processes.\n",
    "\n",
    "Scalability: APIs allow applications to scale by integrating third-party services that can handle increased workloads. For instance, cloud storage APIs can manage large volumes of data without requiring local resources.\n",
    "\n",
    "Flexibility: APIs provide a way to connect diverse systems, enabling flexibility in choosing different technologies and services that best fit the application’s needs.\n",
    "\n",
    "Security: Using APIs, applications can interact with external services securely without exposing internal data. Properly designed APIs use authentication and encryption to protect data.\n",
    "\n",
    "Innovation: APIs open up possibilities for innovation by allowing developers to combine functionalities in novel ways, creating new services and improving user experiences.\n",
    "\n",
    "Disadvantages of Using API\n",
    "Complexity: Integrating APIs can add complexity to the development process, especially when dealing with multiple APIs from different providers with varying standards and documentation.\n",
    "\n",
    "Dependency: Relying on external APIs means depending on the third-party providers' availability and reliability. If the API provider experiences downtime or discontinues the service, it can impact the dependent application.\n",
    "\n",
    "Performance: Using external APIs can introduce latency and affect performance, particularly if the API calls involve large data transfers or complex processing.\n",
    "\n",
    "Versioning Issues: API updates and version changes by the provider can cause compatibility issues. Applications must be updated to accommodate changes, which can require additional development effort.\n",
    "\n",
    "Cost: Some APIs, especially third-party services, come with usage costs. Depending on the usage level, this can become a significant expense."
   ]
  },
  {
   "cell_type": "markdown",
   "id": "196acdf2-2d86-4ca9-a3f9-f61252809f3c",
   "metadata": {},
   "source": [
    "Q3. What is a Web API? Differentiate between API and Web API.\n",
    "Ans- Web API is a subset of API that allows HTTP and HTTPS protocols allows differen t applications with different languages to communicate over web.\n",
    "\n",
    "API stands for Appliaction Programming Interfae that uses TCP, SMPTP, HTTP protocolsthat allows different softwares to communicate. APIs can be used in various contexts, including operating systems, libraries, frameworks, and services. APIs can use various data formats for communication, including binary formats, XML, JSON, and others.\n",
    "\n",
    "Web API s a type of API specifically designed to be accessed over the web using HTTP/HTTPS protocols. It typically involves web services and is used for communication between web servers and clients (e.g., browsers, mobile apps). Web APIs typically use standardized data formats like JSON or XML for data exchange over HTTP/HTTPS."
   ]
  },
  {
   "cell_type": "markdown",
   "id": "75a1e4f3-9476-488c-b624-1b2cdb84ff51",
   "metadata": {},
   "source": [
    "Q4. Explain REST and SOAP Architecture. Mention shortcomings of SOAP.\n",
    "Ans- REST- Represntational State Transfer is an architectural style for designing networked applications. It uses HTTP/HTTPs protocols as default and focus on stateless, client-server communication, resource identification, and manipulation using a uniform interface. It is simpler, more flexible, and generally preferred for web services that require scalability and performance.\n",
    "\n",
    "SOAP- Simple Object Access Protocol is a protocol for exchanging structured information in web services. It primarily uses TCP/SMTP protocol and relies on XML(Xtendned markup Language) format messages. It is more complex and can introduce performance and overhead issues but offers built-in support for features like security and transactions."
   ]
  },
  {
   "cell_type": "markdown",
   "id": "252bd871-a435-49a7-862d-2695f9befdb6",
   "metadata": {},
   "source": [
    "Q5. Differentiate between REST and SOAP.\n",
    "Ans-\n",
    "- REST is an architectural style used for designing networked application while  SOAP is a protocol with a strict set of rules and standards defined by   the W3C.\n",
    "- REST leverages standard HTTP methods and is built around resources identified by URLs while SOAP uses XML for message formatting and can be\n",
    "  transported over various protocols (HTTP, SMTP, TCP, etc.).      \n",
    "- REST focuses on stateless interactions and uses a simple and flexible approach while SOAP is designed to handle complex interactions with built-in   \n",
    "  security and transaction features.\n",
    "- REST is widely adopted in modern web applications due to its flexibility and ease of use while SOAP offers built-in security and extensibility\n",
    "  features, making it suitable for enterprise-level applications requiring complex interactions and robust security."
   ]
  }
 ],
 "metadata": {
  "kernelspec": {
   "display_name": "Python 3 (ipykernel)",
   "language": "python",
   "name": "python3"
  },
  "language_info": {
   "codemirror_mode": {
    "name": "ipython",
    "version": 3
   },
   "file_extension": ".py",
   "mimetype": "text/x-python",
   "name": "python",
   "nbconvert_exporter": "python",
   "pygments_lexer": "ipython3",
   "version": "3.12.0"
  }
 },
 "nbformat": 4,
 "nbformat_minor": 5
}
