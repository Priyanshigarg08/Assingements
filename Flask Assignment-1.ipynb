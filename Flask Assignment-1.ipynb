{
 "cells": [
  {
   "cell_type": "markdown",
   "id": "b2f42429-b350-4618-ba01-0235eb931914",
   "metadata": {},
   "source": [
    "Q1. What is Flask Framework? What are the advantages of Flask Framework?\n",
    "Ans- Flask Framework is a micro web framework for or can be said as pythonic library which we're able to biuld APIs. It has no database abstraction layer, form validation, or other components where pre-existing third-party libraries provide common functions. However, Flask supports extensions that can add application features as if they were implemented in Flask itself. Extensions exist for object-relational mappers, form validation, upload handling, various open authentication technologies, and several common framework-related tools.\n",
    "\n",
    "ADVANTAGES-\n",
    "1. Lightweight and Flexible- Flask is minimalistic, allowing developers to choose how they want to implement features. It provides the essentials to get started but leaves the architectural decisions to the developer.\n",
    "2. Easy to Learn: Flask is straightforward to set up and has a gentle learning curve, making it ideal for beginners and small projects.\n",
    "3. Built-in Development Server: Flask comes with a built-in development server and a debugger that makes development faster and easier.\n",
    "4. Minimal Setup: Flask does not impose a specific project or code layout, giving developers the freedom to structure their projects as they see fit.\n",
    "5. Documentation and Community: Flask has comprehensive documentation and a large, active community that contributes to a variety of extensions and resources."
   ]
  },
  {
   "attachments": {
    "9d34f866-9be4-4bc9-b940-604fdffbb84f.PNG": {
     "image/png": "[encoded data removed]"
    }
   },
   "cell_type": "markdown",
   "id": "e41e0fec-5661-457e-b496-3f03829b7c6e",
   "metadata": {},
   "source": [
    "Q2. Create a simple Flask application to display ‘Hello World!!’. Attach the screenshot of the output inJupyter Notebook.\n",
    "![Capture.PNG](attachment:9d34f866-9be4-4bc9-b940-604fdffbb84f.PNG)"
   ]
  },
  {
   "cell_type": "markdown",
   "id": "2734d989-de60-4ebc-9432-9f582dd87bbd",
   "metadata": {},
   "source": [
    "Q3. What is App routing in Flask? Why do we use app routes?\n",
    "Ans- App routing in Flask refers to the mechanism of mapping URLs (or web addresses) to specific functions in your Flask application. This is a fundamental part of web development with Flask, as it allows you to define how different URLs should be handled by the application.\n",
    "\n",
    "App routes allow developers to define which function should be executed when a specific URL is accessed. This is essential for creating the structure of a web application.By defining routes, developers can organize the application into different sections or pages, making it easier to manage and scale.\n"
   ]
  },
  {
   "cell_type": "markdown",
   "id": "ffa1181a-875c-408a-9882-8d78fb39ab55",
   "metadata": {},
   "source": [
    "Q4. Create a “/welcome” route to display the welcome message “Welcome to ABC Corporation” and a “/”\n",
    "route to show the following details:\n",
    "Company Name: ABC Corporation\n",
    "Location: India\n",
    "Contact Detail: 999-999-9999\n",
    "\n"
   ]
  },
  {
   "cell_type": "markdown",
   "id": "df86fbf3-cad4-431c-9add-14b670ab63c0",
   "metadata": {},
   "source": [
    "Q5. What function is used in Flask for URL Building? Write a Python code to demonstrate the working of the url_for() function.\n",
    "Ans- In Flask, the url_for() function is used for URL building. This function generates a URL to the specified endpoint with the method's name and allows you to pass in keyword arguments corresponding to the variable parts of the URL rule. It is particularly useful for avoiding hardcoding URLs in your templates and code, thus making your application more maintainable and flexible."
   ]
  },
  {
   "cell_type": "code",
   "execution_count": null,
   "id": "ed30dc82-efa4-4119-a886-00d13caf51d5",
   "metadata": {},
   "outputs": [],
   "source": [
    "from flask import Flask, url_for, redirect\n",
    "\n",
    "app = Flask(__name__)\n",
    "\n",
    "@app.route('/')\n",
    "def home():\n",
    "    return '''\n",
    "    <h1>Welcome to the Home Page!</h1>\n",
    "    <p>Go to the <a href=\"{0}\">About Page</a></p>\n",
    "    '''.format(url_for('about'))\n",
    "\n",
    "@app.route('/about')\n",
    "def about():\n",
    "    return '''\n",
    "    <h1>About Us</h1>\n",
    "    <p>This is the About Page of ABC Corporation.</p>\n",
    "    <p>Go back to the <a href=\"{0}\">Home Page</a></p>\n",
    "    '''.format(url_for('home'))\n",
    "\n",
    "@app.route('/user/<username>')\n",
    "def show_user_profile(username):\n",
    "    # Show the user profile for that user\n",
    "    return f'User: {username}'\n",
    "\n",
    "@app.route('/redirect_example')\n",
    "def redirect_example():\n",
    "    # Redirect to the home page using url_for\n",
    "    return redirect(url_for('home'))\n",
    "\n",
    "if __name__ == '__main__':\n",
    "    app.run(debug=True)"
   ]
  }
 ],
 "metadata": {
  "kernelspec": {
   "display_name": "Python 3 (ipykernel)",
   "language": "python",
   "name": "python3"
  },
  "language_info": {
   "codemirror_mode": {
    "name": "ipython",
    "version": 3
   },
   "file_extension": ".py",
   "mimetype": "text/x-python",
   "name": "python",
   "nbconvert_exporter": "python",
   "pygments_lexer": "ipython3",
   "version": "3.12.0"
  }
 },
 "nbformat": 4,
 "nbformat_minor": 5
}
