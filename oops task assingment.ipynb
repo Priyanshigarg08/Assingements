{
 "cells": [
  {
   "cell_type": "markdown",
   "id": "46815089-34f3-4865-9fc4-39a8635e9c69",
   "metadata": {},
   "source": [
    "Q1, Create a vehicle class with an init method having instance variables as name_of_vehicle, max_speed\n",
    "and average_of_vehicle."
   ]
  },
  {
   "cell_type": "code",
   "execution_count": 11,
   "id": "f87217d7-9bb5-42bc-b01c-73c9fa0c1a57",
   "metadata": {},
   "outputs": [
    {
     "name": "stdout",
     "output_type": "stream",
     "text": [
      "car\n",
      "200\n"
     ]
    }
   ],
   "source": [
    "class vehicle():\n",
    "    def __init__(self,name,max_speed,average):\n",
    "        self.name= name\n",
    "        self.max_speed=max_speed\n",
    "        self.average= average\n",
    "\n",
    "vehicle1= vehicle(\"car\",130,100)\n",
    "print(vehicle1.name)\n",
    "\n",
    "vehicle2= vehicle(\"Bus\",200,150)\n",
    "print(vehicle2.max_speed)"
   ]
  },
  {
   "cell_type": "markdown",
   "id": "1715b0f1-5d4a-4e15-b52d-80d4b9d6bb6f",
   "metadata": {},
   "source": [
    "Q2. Create a child class car from the vehicle class created in Que 1, which will inherit the vehicle class.\r\n",
    "Create a method named seating_capacity which takes capacity as an argument and returns the name of\r\n",
    "the vehicle and its seating capacity."
   ]
  },
  {
   "cell_type": "markdown",
   "id": "a5d00ee7-3c71-4972-bd3f-bd7d201c9345",
   "metadata": {},
   "source": [
    "class vehicle():\n",
    "    def __init__(self,name,max_speed,average):\n",
    "        self.name= name\n",
    "        self.max_speed=max_speed\n",
    "        self.average= average\n",
    "\n",
    "class car(vehicle):\n",
    "    def seating_capacity(self):\n",
    "        capacity=int(input(\"enter the capacity of the vehicle\"))\n",
    "        return capacity, self.name\n",
    "\n",
    "car1=car(\"Inova\",150,100)\n",
    "car1.seating_capacity()"
   ]
  },
  {
   "cell_type": "markdown",
   "id": "47c90068-d067-4e10-9e24-957b97432cc2",
   "metadata": {},
   "source": [
    "Q3. What is multiple inheritance? Write a python code to demonstrate multiple inheritance."
   ]
  },
  {
   "cell_type": "code",
   "execution_count": null,
   "id": "2a5c8cb3-ff54-4863-af3e-19341b677d11",
   "metadata": {},
   "outputs": [],
   "source": [
    "class test1():\n",
    "    def test_class1(self):\n",
    "        print(\"this  is class test 1\")\n",
    "\n",
    "class test2(test1):\n",
    "    def test_class2(self):\n",
    "        print(\"this is class test2\")\n",
    "  \n",
    "class test3(test2):                    #multiple inheritance\n",
    "    def test_class3(self):\n",
    "        print(\"this is class test3\")\n",
    "\n",
    "obj_3= test3()\n",
    "obj_3.test_class1()\n",
    "\n",
    "obj_2=test3()\n",
    "obj_2.test_class3()\n",
    "\n",
    "obj_1=test3()\n",
    "obj_1.test_class2()"
   ]
  },
  {
   "cell_type": "markdown",
   "id": "1283b56d-0428-46ce-b691-ceb1748827bd",
   "metadata": {},
   "source": [
    "Q4. What are getter and setter in python? Create a class and create a getter and a setter method in this\n",
    "class."
   ]
  },
  {
   "cell_type": "code",
   "execution_count": null,
   "id": "08b0ae68-8151-4fb0-a318-e7a153862995",
   "metadata": {},
   "outputs": [],
   "source": [
    "GETTER METHOD- THIS METHOD ALLOWS YOU TO ACCESS AN ATTRIBUTE IN A CLASS\n",
    "SETTER METHOD- THIS METHOD ALLOWS YOU TO SET OR CHANGE THE VALUE OF AN ATTRIBUTE IN A CLASS"
   ]
  },
  {
   "cell_type": "code",
   "execution_count": 27,
   "id": "86fbf856-c8b5-4efc-bd1d-9fbd42e6bd97",
   "metadata": {},
   "outputs": [
    {
     "name": "stdout",
     "output_type": "stream",
     "text": [
      "10\n",
      "21\n"
     ]
    }
   ],
   "source": [
    "class Geek():\n",
    "    def __init__(self,age=10):\n",
    "        self.age=age\n",
    "\n",
    "    #GETTER METHOD\n",
    "    def get_age(self):\n",
    "        return self.age\n",
    "\n",
    "    # SETTER METHOD\n",
    "    def set_age(self,age):\n",
    "        self.age=age\n",
    "\n",
    "geek=Geek()\n",
    "print(geek.get_age())\n",
    "geek.set_age(21)\n",
    "print(geek.get_age())"
   ]
  },
  {
   "cell_type": "markdown",
   "id": "ee668587-5552-4143-973a-7d85cd8c7fe0",
   "metadata": {},
   "source": [
    "Q5.What is method overriding in python? Write a python code to demonstrate method overriding."
   ]
  },
  {
   "cell_type": "markdown",
   "id": "b026935d-033b-43e3-80d4-f62bdc2cbff7",
   "metadata": {},
   "source": [
    "Method overriding is an ability of any object-oriented programming language that allows a subclass or child class to provide a specific implementation of a method that is already provided by one of its super-classes or parent classes. When a method in a subclass has the same name, same parameters or signature and same return type(or sub-type) as a method in its super-class, then the method in the subclass is said to override the method in the super-class."
   ]
  },
  {
   "cell_type": "code",
   "execution_count": 28,
   "id": "f288434e-dcea-44b6-8a84-2280c6f5e089",
   "metadata": {},
   "outputs": [
    {
     "name": "stdout",
     "output_type": "stream",
     "text": [
      "Inside Parent\n",
      "Inside Child\n"
     ]
    }
   ],
   "source": [
    "class Parent():\n",
    "    def __init__(self):\n",
    "        self.value= \"Inside Parent\"\n",
    "\n",
    "    def show(self):\n",
    "        print(self.value)\n",
    "\n",
    "class Child():\n",
    "    def __init__(self):\n",
    "        self.value=\"Inside Child\"\n",
    "\n",
    "    def show(self):\n",
    "        print(self.value)\n",
    "\n",
    "obj1=Parent()\n",
    "obj2=Child()\n",
    "\n",
    "obj1.show()\n",
    "obj2.show()"
   ]
  },
  {
   "cell_type": "code",
   "execution_count": null,
   "id": "3c6bdcac-edeb-478e-ae77-97a086084b51",
   "metadata": {},
   "outputs": [],
   "source": []
  }
 ],
 "metadata": {
  "kernelspec": {
   "display_name": "Python 3 (ipykernel)",
   "language": "python",
   "name": "python3"
  },
  "language_info": {
   "codemirror_mode": {
    "name": "ipython",
    "version": 3
   },
   "file_extension": ".py",
   "mimetype": "text/x-python",
   "name": "python",
   "nbconvert_exporter": "python",
   "pygments_lexer": "ipython3",
   "version": "3.12.0"
  }
 },
 "nbformat": 4,
 "nbformat_minor": 5
}
